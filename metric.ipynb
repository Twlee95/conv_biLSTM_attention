{
 "cells": [
  {
   "cell_type": "code",
   "execution_count": null,
   "metadata": {},
   "outputs": [],
   "source": [
    "from sklearn.metrics import mean_absolute_error\n",
    "from sklearn.metrics import mean_squared_error\n",
    "from sklearn.metrics import mean_absolute_percentage_error\n",
    "from sklearn.metrics import accuracy_score\n",
    "from sklearn.metrics import matthews_corrcoef\n",
    "\n",
    "\n",
    "import math\n",
    "\n",
    "def metric_mae(y_pred, y_true):\n",
    "    perc_y_pred = y_pred.cpu().detach().numpy()\n",
    "    perc_y_true = y_true.cpu().detach().numpy()\n",
    "    mae = mean_absolute_error(perc_y_true, perc_y_pred, multioutput='raw_values')[0]\n",
    "    return mae\n",
    "\n",
    "\n",
    "def metric_rmse(y_pred, y_true):\n",
    "    perc_y_pred = y_pred.cpu().detach().numpy()\n",
    "    perc_y_true = y_true.cpu().detach().numpy()\n",
    "    mse = mean_squared_error(perc_y_true, perc_y_pred, multioutput='raw_values')[0]\n",
    "    rmse = math.sqrt(mse)\n",
    "    return rmse\n",
    "\n",
    "def metric_mape(y_pred, y_true):\n",
    "    perc_y_pred = y_pred.cpu().detach().numpy()\n",
    "    perc_y_true = y_true.cpu().detach().numpy()\n",
    "    mape = mean_absolute_percentage_error(perc_y_true, perc_y_pred, multioutput='raw_values')[0]\n",
    "    return mape\n",
    "\n",
    "\n",
    "def metric_acc(y_pred, y_true):\n",
    "    perc_y_pred = y_pred.cpu().detach().numpy()\n",
    "    perc_y_true = y_true.cpu().detach().numpy()\n",
    "    acc = accuracy_score(perc_y_true, perc_y_pred)\n",
    "    return acc\n",
    "\n",
    "def metric_mcc(y_pred, y_true):\n",
    "    perc_y_pred = y_pred.cpu().detach().numpy()\n",
    "    perc_y_true = y_true.cpu().detach().numpy()\n",
    "    mcc = matthews_corrcoef(perc_y_true, perc_y_pred)\n",
    "    return mcc"
   ]
  }
 ],
 "metadata": {
  "anaconda-cloud": {},
  "kernelspec": {
   "display_name": "py38_64",
   "language": "python",
   "name": "py38_64"
  },
  "language_info": {
   "codemirror_mode": {
    "name": "ipython",
    "version": 3
   },
   "file_extension": ".py",
   "mimetype": "text/x-python",
   "name": "python",
   "nbconvert_exporter": "python",
   "pygments_lexer": "ipython3",
   "version": "3.8.12"
  }
 },
 "nbformat": 4,
 "nbformat_minor": 4
}

{
 "cells": [
  {
   "cell_type": "code",
   "execution_count": 1,
   "metadata": {},
   "outputs": [],
   "source": [
    "# import sys\n",
    "# sys.path.append('C:\\\\Users\\\\USER\\\\PycharmProjects\\\\AdvLSTM')\n",
    "import torch\n",
    "\n",
    "class StockDataset:\n",
    "    def __init__(self, data):\n",
    "        self.data_ = data\n",
    "\n",
    "    def __len__(self):\n",
    "        return len(self.data_)\n",
    "\n",
    "    def __getitem__(self, idx):\n",
    "        data = self.data_[idx]\n",
    "        X = data[0].to_numpy()\n",
    "        y = data[1].to_numpy()\n",
    "\n",
    "        return X, y  ## 데이터별 리스트\n"
   ]
  },
  {
   "cell_type": "code",
   "execution_count": null,
   "metadata": {},
   "outputs": [],
   "source": []
  }
 ],
 "metadata": {
  "anaconda-cloud": {},
  "kernelspec": {
   "display_name": "py38_64",
   "language": "python",
   "name": "py38_64"
  },
  "language_info": {
   "codemirror_mode": {
    "name": "ipython",
    "version": 3
   },
   "file_extension": ".py",
   "mimetype": "text/x-python",
   "name": "python",
   "nbconvert_exporter": "python",
   "pygments_lexer": "ipython3",
   "version": "3.8.12"
  }
 },
 "nbformat": 4,
 "nbformat_minor": 4
}

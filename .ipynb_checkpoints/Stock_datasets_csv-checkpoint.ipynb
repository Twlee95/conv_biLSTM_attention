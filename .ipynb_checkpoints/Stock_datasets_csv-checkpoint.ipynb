{
 "cells": [
  {
   "cell_type": "markdown",
   "id": "2cead71d-6ed8-4e40-aeca-e91f34846496",
   "metadata": {},
   "source": [
    "## stock csv reader"
   ]
  },
  {
   "cell_type": "code",
   "execution_count": 1,
   "id": "e7284c38-6d10-4612-86b7-406ebf8a3456",
   "metadata": {},
   "outputs": [],
   "source": [
    "import pandas as pd\n",
    "import numpy as np\n",
    "import torch.nn as nn\n",
    "import torch\n",
    "import os\n",
    "\n",
    "class stock_csv_read:\n",
    "    def __init__(self, data, x_frames, y_frames):\n",
    "        self.data = data\n",
    "        self.x_frames = x_frames\n",
    "        self.y_frames = y_frames\n",
    "        self.stock_data = self.data_loader()\n",
    "        \n",
    "    def data_loader(self):\n",
    "        stock_data = pd.read_csv(\"./data/kdd17/ourpped/\"+self.data,header=None)\n",
    "        stock_data = stock_data[29:]\n",
    "        stock_data = stock_data.iloc[:,:12]\n",
    "        target = pd.DataFrame(np.where(stock_data.iloc[:,11]>=0,1,0))\n",
    "        stock_data = stock_data.iloc[:,:11].reset_index(drop=True)\n",
    "        stock_data = pd.concat([stock_data,target],axis=1 , ignore_index= True)\n",
    "        \n",
    "        return stock_data\n",
    "    \n",
    "    def spliter(self, data):\n",
    "        self.dd = data\n",
    "        data_list = []\n",
    "        for i in range(len(self.dd)-self.x_frames-self.y_frames+1):\n",
    "            xy = []\n",
    "            X = self.dd.iloc[i : i +self.x_frames, 0:11]\n",
    "            y = self.dd.iloc[i +self.x_frames : i +self.x_frames +self.y_frames, 11:]\n",
    "            xy.append(X)\n",
    "            xy.append(y)\n",
    "            data_list.append(xy)\n",
    "        return data_list\n",
    "    \n",
    "    def cv_split(self):\n",
    "        stock_data = self.stock_data\n",
    "        \n",
    "        data_len = len(stock_data)\n",
    "        mok = data_len//19\n",
    "        \n",
    "        adder = 0\n",
    "        data_list = []\n",
    "        for i in range(10):\n",
    "            sp_data = stock_data.iloc[0+adder:10*mok+adder,:]\n",
    "            \n",
    "            tvt = []\n",
    "            train_sp_data = sp_data[0:8*mok]\n",
    "            validation_sp_data = sp_data[8*mok:9*mok]\n",
    "            test_sp_data = sp_data[9*mok:10*mok]\n",
    "            \n",
    "            train_sp_data_ = self.spliter(train_sp_data)\n",
    "            validation_sp_data_ = self.spliter(validation_sp_data)\n",
    "            test_sp_data_ = self.spliter(test_sp_data)\n",
    "\n",
    "            tvt.append(train_sp_data_)\n",
    "            tvt.append(validation_sp_data_)\n",
    "            tvt.append(test_sp_data_)\n",
    "            adder += mok\n",
    "            data_list.append(tvt)\n",
    "            \n",
    "        return data_list\n"
   ]
  }
 ],
 "metadata": {
  "kernelspec": {
   "display_name": "py38_64",
   "language": "python",
   "name": "py38_64"
  },
  "language_info": {
   "codemirror_mode": {
    "name": "ipython",
    "version": 3
   },
   "file_extension": ".py",
   "mimetype": "text/x-python",
   "name": "python",
   "nbconvert_exporter": "python",
   "pygments_lexer": "ipython3",
   "version": "3.8.12"
  }
 },
 "nbformat": 4,
 "nbformat_minor": 5
}
